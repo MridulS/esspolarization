{
 "cells": [
  {
   "cell_type": "markdown",
   "id": "788a4fce-63dc-4c23-8d2a-e9a05db0fdf7",
   "metadata": {
    "jp-MarkdownHeadingCollapsed": true
   },
   "source": [
    "## Data correction procedure for TOF-SANS with polarization analysis\n",
    "\n",
    "- Note on notation:\n",
    "> - subscripts = discretization variable from measurement\n",
    "> - superscripts = Names\n",
    "> - () = continuous function of....\n",
    "\n",
    "| Value | Meaning | shape | How acquired? | How named in current main branch? |\n",
    "|:--------:|:--------:|:--------:|:--------:|:--------:|\n",
    "|  $I^{++}_{t,\\lambda}$   |  uncorrected sample data of ++ channel |  data array with columns for $I$, $\\lambda$, $t$   |  neutron data |Row 1   |\n",
    "|  $I^{+-}_{t,\\lambda}$   |  uncorrected sample data of +- channel |  data array with columns for $I$, $\\lambda$, $t$   | neutron data    |Row 1   |\n",
    "|  $I^{-+}_{t,\\lambda}$   |  uncorrected sample data of -+ channel  |  data array with columns for $I$, $\\lambda$, $t$   | neutron data   |Row 1   |\n",
    "|  $I^{--}_{t,\\lambda}$   |  uncorrected sample data of -- channel |  data array with columns for $I$, $\\lambda$, $t$    | neutron data   |Row 1   |\n",
    "|  $S^{++}_{t,\\lambda}$   |  corrected sample data of ++ channel  |  data array with columns for $I$, $\\lambda$, $t$   | by pol-correction  |Row 1   |\n",
    "|  $S^{+-}_{t,\\lambda}$   |  corrected sample data of +- channel  |  data array with columns for $I$, $\\lambda$, $t$   | by pol-correction   |Row 1   |\n",
    "|  $S^{-+}_{t,\\lambda}$   |  corrected sample data of -+ channel  |  data array with columns for $I$, $\\lambda$, $t$   | by pol-correction   |Row 1   |\n",
    "|  $S^{--}_{t,\\lambda}$   |  corrected sample data of -- channel  |  data array with columns for $I$, $\\lambda$, $t$   | by pol-correction    |Row 1   |\n",
    "|  $p^{p|a}$   |  pressure of $^3$He-polarizer/analyzer  |  scalar, 1-dim   | from metadata  |Row 1   |\n",
    "|  $l^{p|a}$   |  length of $^3$He-polarizer/analyzer   |  scalar, 1-dim   | from metadata   |Row 1   |\n",
    "|  $T^{g, p|a}(\\lambda)$   |  transmission of empty glass of polarizer/analyzer   |  scalar, 1-dim   | from metadata  |Row 1   |\n",
    "|  $O^{p|a}(\\lambda)=O^{0, p|a}*\\lambda$   |  wavelength-dependent opacity of $^3$He-polarizer/analyzer  |  continuous function of $\\lambda$   | $O^{0, p|a}$ fit to data |Row 1   |\n",
    "|  $O^{0, p|a}$   |  wavelength-independent pre-factor of opacity of $^3$He-polarizer/analyzer   |  scalar, 1-dim   | fit to data  |Row 1   |\n",
    "|  $P^{3He, p|a}(t) = C^{p|a}e^{-t/T^{1, p|a}}$   |  time-dependent nuclear polarization of $^3$He-polarizer/analyzer  |  continuous function of $t$   | $C^{p|a}, T^{1, p|a}$ fit to data   |Row 1   |\n",
    "|  $C^{p|a}$   |  Pre-factor of nuclear polarization exponential decay of $^3$He-polarizer/analyzer  |  scalar, 1-dim   | fit to data | $P_{He0}$   |\n",
    "|  $T^{1, p|a}$   |  Decay constant of nuclear polarization exponential decay of $^3$He-polarizer/analyzer  |  scalar, 1-dim   | fit to data |Row 1   |\n",
    "|  $I^{DB,unpol-in,p|a}_{\\lambda, t}$   |  Intensity of direct-beam of an unpolarized-incoming beam to the polarized $^3$He-polarizer/analyzer  |  data array with columns for $I$, $\\lambda$, $t$   | neutron data  |Row 1   |\n",
    "|  $I^{DB,depol,p|a}_{\\lambda}$   |  Intensity of direct-beam of an unpolarized-incoming beam to the depolarized $^3$He-polarizer/analyzer |  data array with columns for $I$, $\\lambda$  | neutron data  |Row 1   |\n",
    "|  $I^{DB, no-cell}_{\\lambda}$   |  Intensity of direct-beam of an unpolarized-incoming beam to detector without passing cells or sample  |  data array with columns for $I$, $\\lambda$  | neutron data   |Row 1   |\n",
    "|  $\\hat{T}^{\\pm, p|a}(t,\\lambda)$   |  Transmission-function of a in-coming polarized neutron beam into $^3$He-polarizer/analyzer  |  Row 1   | by inserting  $P^{3He, p|a}(t)$,  $O^{p|a}(\\lambda)$ |Row 1   |\n"
   ]
  },
  {
   "cell_type": "markdown",
   "id": "6301a57b-ae5f-41c2-8cf2-63e0e7533db3",
   "metadata": {},
   "source": [
    "1) Overview and general workflow\n",
    "2) Readout of test-data\n",
    "3) Definition of ROI\n",
    "4) Data correction"
   ]
  },
  {
   "attachments": {},
   "cell_type": "markdown",
   "id": "e7400275-ef73-47a7-a72e-d2cdbfa1378d",
   "metadata": {
    "jp-MarkdownHeadingCollapsed": true
   },
   "source": [
    "\n",
    "### Overview and general workflow\n",
    "\n",
    "Different to unpolarized SANS, the spin-dependent cross section $\\vec{S}$ after sample-scattering are correlated and cannot be corrected individually [Ref 1, 2, 3]. Instead, a beamline-component dependent correction Matrix $\\hat{M}$ has to be applied to all spin-dependent measurements simultaneously to retrieve $\\vec{S}$ from the measured intensities $\\vec{I}$:\n",
    "\n",
    "\\begin{equation}\n",
    "\\begin{pmatrix} I^{++}_{t,\\lambda} \\\\ I^{+-}_{t,\\lambda}  \\\\ I^{-+}_{t,\\lambda} \\\\  I^{--}_{t,\\lambda}\\end{pmatrix} = \\hat{M}(t,\\lambda) \\\\\n",
    "\\begin{pmatrix} S^{++}_{t,\\lambda} \\\\ S^{+-}_{t,\\lambda}  \\\\ S^{-+}_{t,\\lambda} \\\\  S^{--}_{t,\\lambda}\\end{pmatrix}\n",
    "\\end{equation}\n",
    "\n",
    "- QUESTION: Here we would probably need both the t- and $\\lambda$-dependence of the data $I$, as we need to know for which t to compute $P(t)$ and $T(t, \\lambda)$ to correct $I$ at this time-step?\n",
    "\n",
    "Here, we describe the correction of TOF-SANS data with polarization analysis of the esspolarization package using two time-dependent $^3$He-polarized cells. Hence, the polarization-related beamline components in $\\hat{M}$ are the time- and spin-dependent transmission matrices of the $^3$He-polarizer $\\hat{T^p}$ and $^3$He-analyzer $\\hat{T^a}$: \n",
    "\n",
    "\\begin{equation}\n",
    "\\begin{pmatrix} I^{++}_{t,\\lambda} \\\\ I^{+-}_{t,\\lambda}  \\\\ I^{-+}_{t,\\lambda} \\\\  I^{--}_{t,\\lambda}\\end{pmatrix} = \\hat{T}^a(t,\\lambda)*\\hat{T}^p(t,\\lambda) \\\\\n",
    "\\begin{pmatrix} S^{++}_{t,\\lambda} \\\\ S^{+-}_{t,\\lambda}  \\\\ S^{-+}_{t,\\lambda} \\\\  S^{--}_{t,\\lambda}\\end{pmatrix}\n",
    "\\end{equation}\n",
    "\n",
    "\n",
    "\n",
    "Both $\\hat{T^p}$ and $\\hat{T^a}$ can be derived from their cell parameters (the transmission of the empty cell $T^{g, p|a}$,  and the cell opacity $O$), and the time-dependent nuclear polarization of the cell $P_{3He}(t)$.<br>\n",
    "This general method for time-dependent $^3$He-cells can be adapted for other use-cases such as using supermirrors or in-situ polarized 3He-cells, see \"Note\" at the end of the page. \n",
    "\n",
    "First, the created test-data needs to be readout and grouped by purpose, e.g., if it describes a sample-run, a direct-beam-run, or a background measurement without cells and sample. All data will be reduced (PROBABLY BEAMLINE SPECIFIC?) using the normalization term described in https://scipp.github.io/ess/techniques/sans/sans-beam-center-finder.html. Second, for the calculation of time-dependent $P_{3He}(t)$, the ROI's of the direct-beam region and background region have to be defined (USING BEAMCENTER FINDER OPTION OF SANS2D?). Third, we will describe the data correction workflow with a calculation of $O$, $P_{3He}(t)$, and $T^{\\pm}$ of the polarizer and analyzer, and the application on the sample-data.\n",
    "\n",
    "To facilitate an in-situ data correction during the experiments, we have implemented two different approaches: (i) a rough data-correction based on a $^3$He-cell opacity calculated by its cell parameters and filling pressure (\"workflow 1\") which can be used in-situ during the experiment, and (ii) a precise calculation based on the calculation of opacity by a direct-beam measurement on the depolarized cell at its end of lifetime (i.e., end of cell-usage for this experiment) (\"workflow 2\")"
   ]
  },
  {
   "cell_type": "markdown",
   "id": "405b0f3e-67ab-43d8-80de-566a1b93785a",
   "metadata": {},
   "source": [
    "### 4. Data correction"
   ]
  },
  {
   "cell_type": "markdown",
   "id": "add255a3-3222-444a-b2e6-b8cef3a8b2db",
   "metadata": {
    "jp-MarkdownHeadingCollapsed": true
   },
   "source": [
    "#### 4.1 Calculation of $^3$He opacity \n",
    "\n",
    "$\\mathbf{Workflow 1}$:<br>\n",
    "The $^3$He opacity is a cell-specific parameter and can vary after each filling process. It is given by the cell pressure $p$ at 20$\\degree$, the path length of neutron through the cell $l$, and the neutron wavelength $\\lambda$ (Ref 1):\n",
    "\n",
    "$$O^{p|a}(\\lambda)= (0.0733 * p^{p|a} * l^{p|a} )\\lambda$$\n",
    "\n",
    "with a factor 0.0733 arising from the number density of $^3$He gas and the absorption cross section of 1$\\mathring A$ neutrons by $^3$He. It can be seen that the opacity depends linearly on the neutron wavelength $\\lambda$. To calculate one value of $O(\\lambda)$ that fits to all wavelength from the depolarized direct-beam data $I^{DB, depol, p|a}$, we will fit the wavelength-independent part $O^{0, p|a}$ of $O(\\lambda)=O^{0, p|a}*\\lambda$ in above equation. Afterwards, the wavelength-dependence can be retrieved by setting \n",
    "\n",
    "$$O^{p|a}(\\lambda)=O^{0, p|a}*\\lambda$$.\n",
    "\n",
    "For an in-situ quick data correction, a measure of $p$ during filling the cell can serve as input to above equation, leading to \"workflow 1\". However, a measurement of the opacity by neutron transmission in a depolarized cell condition yields more precise values and can be performed at the end of the cell-lifetime during the user's neutron experiments, i.e., leading to \"workflow 2\". For both workflows, the constant prefactor $O^{0, p|a}$ will be determined either from workflow 1 or 2.\n",
    "\n",
    "- Note: $l$ is assumed constant over the area of the $^3$He-cell. In case of too large cell volumes, only the fraction with constant $l$/ constant $O$ will be used for the neutron measurements. The same assumption holds for both SANS-cells as well as wide-angle cells\n",
    "- Note: until now, we have treated $T^{g, p|a}$ as constant parameter and ignored its wavelength-dependence, as its variation with wavelength is small enough to not impact the correction procedure. However, to keep it generic and enable to insert a wavelength-dependent $T^{g, p|a}(\\lambda)$, the dependence on wavelength will be pre-characterized (during fabrication of the cell) and inserted as function into this workflow instead of a scalar.\n",
    "\n",
    "$\\mathbf{Workflow 2}$:<br>\n",
    "A more precise data correction is based on a measure of $p$ by a direct-beam measurement through the depolarized cell (i.e., $P_{3He}(t) \\rightarrow 0$)(Ref. 2), leading to \"workflow 2\". For $P_{3He}(t) \\rightarrow 0$ and an unpolarized incident beam on the depolarized cell(i.e., $\\hat{T}_{depol} = (\\hat{T}^++\\hat{T}^-)/2$), the neutron transmission \\eqref{eq:T} becomes:\n",
    "\n",
    "$$T^{depol, p|a}(\\lambda)=T^{g, p|a}(\\lambda)e^{-O^{0, p|a}*\\lambda}$$\n",
    "\n",
    "This leads to following derivation by neutron experiment:\n",
    "\n",
    "$$I^{DB,depol,p|a}_{\\lambda}/I^{DB,no-cell}_{\\lambda}=T^{g, p|a}(\\lambda)e^{-O^{0, p|a}*\\lambda}$$\n",
    "\n",
    "For a measurement of $I^{DB,depol,p|a}_{\\lambda}$, the $^3$He cell needs to be depolarized at the end of its lifetime and a direct-beam measurement through each cell (and the other cell out of beam) has to be performed without sample. \n",
    "\n",
    "- Note: Workflow 2 should overwrite workflow 1 opacity after the experiment\n",
    "- Note: Different to the sample data, $I^{DB,depol,p|a}$ and $I^{DB,no-cell}$ are not time-dependent\n",
    "- Note: It is important to fit $I_{depol}/I_0$ instead of $I_{depol}$, such that all the parameters in the fit-functions are scalars.\n"
   ]
  },
  {
   "cell_type": "markdown",
   "id": "14be6c8e-3ee3-4ffc-a8f0-e9face4c4d27",
   "metadata": {},
   "source": [
    "#### 4.2 Calculation of time-dependent 3He-polarization\n",
    "  \n",
    "Now $O^{p|a}(\\lambda)=)O^{0, p|a}*\\lambda$ is known. <br>\n",
    "The next step for getting the transmission functions $\\hat{T}^{\\pm}$ is to calculate the nuclear polarization of the $^3$He-cell, which decays exponentially with a decay-time $T^{1, p|a}$ and is given by:\n",
    "\n",
    "$$P^{3He, p|a}(t) = C^{p|a}e^{-t/T^{1, p|a}}$$.\n",
    "\n",
    "From the neutron measurement, this again can be retrieved by measuring the transmission through each cell (i.e., for an unpolarized incoming beam into the polarized cell):\n",
    "\n",
    "$$\\hat{T}^{unpol-in}(\\lambda, t) = T^{g, p|a}(\\lambda)e^{-O_0^{p|a}*\\lambda}\\cosh({P_{3He}(t)*O^{0, p|a}*\\lambda})$$<br>\n",
    "$$I^{DB,unpol-in,p|a}_{\\lambda, t}/I^{DB, no-cell}_{\\lambda} = T^{g, p|a}(\\lambda)e^{-O^{0, p|a}*\\lambda}\\cosh({P^{3He, p|a}(t)*O^{0, p|a}*\\lambda})$$\n",
    "\n",
    "Fitting this equation to the direct-beam data will yield $C^{p|a}$ and $T^{1, p|a}$, which then can be used to calculate $P^{3He, p|a}(t)$, which shall be the output of the procedure. \n",
    "\n",
    "- Note: Some instruments cannot move the polarizer, and in those cases the incoming beam on the analyzer would be polarized. In such cases, another workflow has to be used.\n",
    "- Note: The readout of which spin-channel to use for $I^{DB,unpol-in,p|a}_{\\lambda, t}$ is irrelevant, as they are the same."
   ]
  },
  {
   "cell_type": "markdown",
   "id": "3dc34bc5-06de-48d0-acda-eafb22f09b80",
   "metadata": {},
   "source": [
    "#### 4.3 Spin-dependent transmission values\n",
    "\n",
    "Now both $O^{p|a}(\\lambda)=)O^{0, p|a}*\\lambda$ and $P^{3He, p|a}(t)$ are known. <br>\n",
    "Following Refs (1, 3), the polarization-dependent transmission matrices of a polarized neutron beam through the 3He cells can be computed by inserting \n",
    "\n",
    "$\\hat{T}^{\\pm, p|a}(t,\\lambda) = T^g*e^{-O^{0, p|a}*\\lambda\\pm O^{0, p|a}*\\lambda*P^{3He, p|a}(t)}$,\n",
    "\n",
    "  \n",
    "into:\n",
    "\n",
    "\\begin{equation}\n",
    "\\hat{T}^{p}=\\\\\n",
    "\\begin{pmatrix} \n",
    "T^{p,+}(t,\\lambda) & 0 & T^{p,-}(t,\\lambda) & 0 \\\\ 0 & T^{p,+}(t,\\lambda) & 0 & T^{p,-}(t,\\lambda) \\\\ T^{p,-}(t,\\lambda) & 0 & T^{p,+}(t,\\lambda) & 0 \\\\ 0 & T^{p,-}(t,\\lambda) & 0 & T^{p,+}(t,\\lambda)  \n",
    "\\end{pmatrix}\n",
    "\\end{equation},\n",
    "\n",
    "\n",
    "\\begin{equation}\n",
    "\\hat{T}^{a}=\\\\\n",
    "\\begin{pmatrix} \n",
    "T^{a,+}(t,\\lambda) &  T^{a,-}(t,\\lambda) & 0 &0\\\\ T^{a,-}(t,\\lambda) &  T^{a,+}(t,\\lambda) & 0 & 0\\\\ 0&0& T^{a,+}(t,\\lambda) &  T^{a,-}(t,\\lambda) \\\\ 0&0& T^{a,-}(t,\\lambda) &  T^{a,+}(t,\\lambda)\n",
    "\\end{pmatrix}\n",
    "\\end{equation}, \n",
    "\n",
    "- Note: same function for both cells, but with different input parameters\n",
    "- Note: in principle the incoming beam to the polarizer is unpolarized, so $\\hat{T}^{unpol-in}(\\lambda, t)$ isntead of $\\hat{T}^{\\pm, p|a}(t,\\lambda)$ could be used. However, the results will be the same in this case without the need to differ between the cases."
   ]
  },
  {
   "cell_type": "markdown",
   "id": "8a1aee42-2dab-438a-aef4-6d90f1818038",
   "metadata": {},
   "source": [
    "4.4 Sample data correction\n",
    "\n",
    "For polarizing $^3$He-cells without neutron flippers in the beamline, the correction matrix $\\hat{M}$  becomes $\\hat{M} = \\hat{T}^{a}\\hat{T}^{p}$. To correct the measured data I, we need to apply the inverse matrix to the data ($inv(\\hat{M})$):\n",
    "\n",
    "\\begin{equation}\n",
    "\\begin{pmatrix} I^{++}_{t,\\lambda} \\\\ I^{+-}_{t,\\lambda}  \\\\ I^{-+}_{t,\\lambda} \\\\  I^{--}_{t,\\lambda}\\end{pmatrix} = \\hat{T}^a(t,\\lambda)*\\hat{T}^p(t,\\lambda) \\\\\n",
    "\\begin{pmatrix} S^{++}_{t,\\lambda} \\\\ S^{+-}_{t,\\lambda}  \\\\ S^{-+}_{t,\\lambda} \\\\  S^{--}_{t,\\lambda}\\end{pmatrix}\n",
    "\\end{equation}\n",
    "\n",
    "\\begin{equation}\n",
    "inv(\\hat{T}^a(t,\\lambda)*\\hat{T}^p(t,\\lambda)) \\begin{pmatrix} I^{++}_{t,\\lambda} \\\\ I^{+-}_{t,\\lambda}  \\\\ I^{-+}_{t,\\lambda} \\\\  I^{--}_{t,\\lambda}\\end{pmatrix} = \\\\\n",
    "\\begin{pmatrix} S^{++}_{t,\\lambda} \\\\ S^{+-}_{t,\\lambda}  \\\\ S^{-+}_{t,\\lambda} \\\\  S^{--}_{t,\\lambda}\\end{pmatrix}\n",
    "\\end{equation}\n",
    "\n",
    "- Note: probably easier to first put functions into the matrix product $T^a*T^p$, then numerically get the inverse of that matrix product.\n",
    "- Note: we need to perform computation of matrix on channels all together, so we always need all four sets of T+-, a,p together"
   ]
  },
  {
   "cell_type": "markdown",
   "id": "999b0254-3f3f-401b-8b51-424fc4971407",
   "metadata": {},
   "source": [
    "Literature: \n",
    "1) Wai Tung Lee et al., Polarisation Development at the European Spallation Source\n",
    "2) Kathryn Krycka et al., Polarization-analyzed small-angle neutron scattering. I. Polarized data reduction using Pol-Corr\n",
    "3) A. Wildes, The polarizer-analyzer correction problem in neutron polarization analysis experiments\n",
    "4) T. Gentile et al., Optically polarized 3He\n",
    "\n",
    "Note 1:<br>\n",
    "This workflow can be applied on polarization analyzed sample-data using two time-dependent ex-situ polarized 3He-based spin filters as both polarizer and analyzer. To be used for the instruments SKADI and DREAM, following adaptations have to be made:\n",
    "\n",
    "1: DREAM-SANS:<br>\n",
    "operated with a movable in-situ SEOP 3He-polarizer and a movable ex-situ SEOP small-angle 3He-analyzer (nm-SANS-option):<br>\n",
    "--> the polarizer is continuously pumped and considered as time-independent. Values like the opacity, nuclear polarization, and transmission will be pre-characterized and inserted to the workflow as constant parameters.\n",
    "\n",
    "2: DREAM-Diffraction:<br>\n",
    "operated with a movable in-situ SEOP 3He-polarizer and a NOT-movable ex-situ MEOP wide-angle 3He-analyzer <br>\n",
    "--> for the polarizer, the same treatment as stated in 1. will be applied. For the analyzer a new workflow considering that the analyzer cannot be moved out of the beam has to be written.\n",
    "\n",
    "3: SKADI:<br>\n",
    "operated with a movable supermirror V-cavity polarizer, a spin flipper, and a movable ex-situ SEOP/MEOP 3He-analyzer:<br>\n",
    "--> The supeprmirror polarizer (time-independent and wavelength-dependent) and spin flipper transmission values can be pre-characterized and inserted to the workflow as constant parameters. For the analyzer, the current workflow can be adapted.\n",
    "\n"
   ]
  },
  {
   "cell_type": "markdown",
   "id": "eb7b9a93-d375-431e-8684-8fae42909351",
   "metadata": {},
   "source": [
    "#### Open questions regarding DREAM:\n",
    "\n",
    "- Should the incident beam monitor be moved behind the polarizer?\n",
    "- --> we would need a monitor after polarizer if analyzer cannot be moved and polarizer also needs to be characterized\n",
    "- --> current decision: moving monitor to after polarizer (but on another stage, so moves of polarizer do not move monitor\n",
    "- --> The \"unpolarized SANS\" data correction then will be taken on the monitor AFTER polarizer. But as it is an in-situ polarizer with constant polarization, this just leads to a constant offset which will be corrected for using this workflow. If sudden fluctuations in intensity are observed, the polarizer has to be moved out to characterize the neutron beam from the target.\n",
    "- How to treat an in-situ polarizer?\n",
    "- --> instead of exponential decay use a step-function, something like: \"if C changes, then shift P\" - basically constant in time, but with adaptable C (piecewise constant function)\n",
    "- How to adapt workflow for the non-movable wide-angle analyzer?\n",
    "- --> needs to be changed as following: instead of moving analyzer out during measuring P, measure with different monitor for P, and just move out polarizer for measuring analyzer\n",
    "- How to treat the \"SANS-window\" of the high-angle analyzer?\n",
    "- --> characterizing the wide-angle would be done outisde user experiments, just measured sometimes in between by beamline scientists - here then parameters are treated constant for both parts (big part and SANS-window-part)"
   ]
  },
  {
   "cell_type": "code",
   "execution_count": null,
   "id": "f9360e5d-4c4a-4556-b514-edd165827f69",
   "metadata": {},
   "outputs": [],
   "source": []
  },
  {
   "cell_type": "code",
   "execution_count": null,
   "id": "94104be2-ad50-45b4-92dc-bd7c15e2e000",
   "metadata": {},
   "outputs": [],
   "source": []
  }
 ],
 "metadata": {
  "kernelspec": {
   "display_name": "Python 3 (ipykernel)",
   "language": "python",
   "name": "python3"
  },
  "language_info": {
   "codemirror_mode": {
    "name": "ipython",
    "version": 3
   },
   "file_extension": ".py",
   "mimetype": "text/x-python",
   "name": "python",
   "nbconvert_exporter": "python",
   "pygments_lexer": "ipython3",
   "version": "3.11.6"
  }
 },
 "nbformat": 4,
 "nbformat_minor": 5
}
