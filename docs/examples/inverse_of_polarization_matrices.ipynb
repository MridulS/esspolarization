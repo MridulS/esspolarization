{
 "cells": [
  {
   "cell_type": "code",
   "execution_count": 1,
   "id": "14eadb27-fca5-4e22-a59c-7b30e0621942",
   "metadata": {},
   "outputs": [],
   "source": [
    "import sympy as sp"
   ]
  },
  {
   "cell_type": "code",
   "execution_count": 4,
   "id": "eda00d90-997a-499d-a9c3-0dea19a561f4",
   "metadata": {},
   "outputs": [],
   "source": [
    "Tp = sp.symbols('T^p_1:3')\n",
    "Ta = sp.symbols('T^a_1:3')"
   ]
  },
  {
   "cell_type": "code",
   "execution_count": 10,
   "id": "6780e116-44f1-4108-8184-035cf994f399",
   "metadata": {},
   "outputs": [
    {
     "data": {
      "text/latex": [
       "$\\displaystyle \\left[\\begin{matrix}T^{p}_{1} & 0 & T^{p}_{2} & 0\\\\0 & T^{p}_{1} & 0 & T^{p}_{2}\\\\T^{p}_{2} & 0 & T^{p}_{1} & 0\\\\0 & T^{p}_{2} & 0 & T^{p}_{1}\\end{matrix}\\right]$"
      ],
      "text/plain": [
       "Matrix([\n",
       "[T^p_1,     0, T^p_2,     0],\n",
       "[    0, T^p_1,     0, T^p_2],\n",
       "[T^p_2,     0, T^p_1,     0],\n",
       "[    0, T^p_2,     0, T^p_1]])"
      ]
     },
     "execution_count": 10,
     "metadata": {},
     "output_type": "execute_result"
    }
   ],
   "source": [
    "TP = sp.ImmutableDenseMatrix([\n",
    "    [Tp[0], 0, Tp[1], 0],\n",
    "    [0, Tp[0], 0, Tp[1]],\n",
    "    [Tp[1], 0, Tp[0], 0],\n",
    "    [0, Tp[1], 0, Tp[0]],\n",
    "])\n",
    "TP"
   ]
  },
  {
   "cell_type": "code",
   "execution_count": 38,
   "id": "8d22a3bb-0172-4018-9ba7-4b9337408811",
   "metadata": {},
   "outputs": [
    {
     "data": {
      "text/latex": [
       "$\\displaystyle \\left[\\begin{matrix}\\frac{T^{p}_{1}}{\\left(T^{p}_{1}\\right)^{2} - \\left(T^{p}_{2}\\right)^{2}} & 0 & - \\frac{T^{p}_{2}}{\\left(T^{p}_{1}\\right)^{2} - \\left(T^{p}_{2}\\right)^{2}} & 0\\\\0 & \\frac{T^{p}_{1}}{\\left(T^{p}_{1}\\right)^{2} - \\left(T^{p}_{2}\\right)^{2}} & 0 & - \\frac{T^{p}_{2}}{\\left(T^{p}_{1}\\right)^{2} - \\left(T^{p}_{2}\\right)^{2}}\\\\- \\frac{T^{p}_{2}}{\\left(T^{p}_{1}\\right)^{2} - \\left(T^{p}_{2}\\right)^{2}} & 0 & \\frac{T^{p}_{1}}{\\left(T^{p}_{1}\\right)^{2} - \\left(T^{p}_{2}\\right)^{2}} & 0\\\\0 & - \\frac{T^{p}_{2}}{\\left(T^{p}_{1}\\right)^{2} - \\left(T^{p}_{2}\\right)^{2}} & 0 & \\frac{T^{p}_{1}}{\\left(T^{p}_{1}\\right)^{2} - \\left(T^{p}_{2}\\right)^{2}}\\end{matrix}\\right]$"
      ],
      "text/plain": [
       "Matrix([\n",
       "[ T^p_1/(T^p_1**2 - T^p_2**2),                            0, -T^p_2/(T^p_1**2 - T^p_2**2),                            0],\n",
       "[                           0,  T^p_1/(T^p_1**2 - T^p_2**2),                            0, -T^p_2/(T^p_1**2 - T^p_2**2)],\n",
       "[-T^p_2/(T^p_1**2 - T^p_2**2),                            0,  T^p_1/(T^p_1**2 - T^p_2**2),                            0],\n",
       "[                           0, -T^p_2/(T^p_1**2 - T^p_2**2),                            0,  T^p_1/(T^p_1**2 - T^p_2**2)]])"
      ]
     },
     "execution_count": 38,
     "metadata": {},
     "output_type": "execute_result"
    }
   ],
   "source": [
    "TP.inv()"
   ]
  },
  {
   "cell_type": "code",
   "execution_count": 17,
   "id": "9d2a1962-7ae2-4756-ab12-5ac53a602705",
   "metadata": {},
   "outputs": [
    {
     "data": {
      "text/latex": [
       "$\\displaystyle \\left[\\begin{matrix}T^{a}_{1} & T^{a}_{2} & 0 & 0\\\\T^{a}_{2} & T^{a}_{1} & 0 & 0\\\\0 & 0 & T^{a}_{1} & T^{a}_{2}\\\\0 & 0 & T^{a}_{2} & T^{a}_{1}\\end{matrix}\\right]$"
      ],
      "text/plain": [
       "Matrix([\n",
       "[T^a_1, T^a_2,     0,     0],\n",
       "[T^a_2, T^a_1,     0,     0],\n",
       "[    0,     0, T^a_1, T^a_2],\n",
       "[    0,     0, T^a_2, T^a_1]])"
      ]
     },
     "execution_count": 17,
     "metadata": {},
     "output_type": "execute_result"
    }
   ],
   "source": [
    "TA = sp.ImmutableDenseMatrix([\n",
    "    [Ta[0], Ta[1], 0, 0],\n",
    "    [Ta[1], Ta[0], 0, 0],\n",
    "    [0, 0, Ta[0], Ta[1]],\n",
    "    [0, 0, Ta[1], Ta[0]],\n",
    "])\n",
    "TA"
   ]
  },
  {
   "cell_type": "code",
   "execution_count": 37,
   "id": "5f85c7c9-e31e-420d-bf18-b2c9b7c0879c",
   "metadata": {},
   "outputs": [
    {
     "data": {
      "text/latex": [
       "$\\displaystyle \\left[\\begin{matrix}\\frac{T^{a}_{1}}{\\left(T^{a}_{1}\\right)^{2} - \\left(T^{a}_{2}\\right)^{2}} & - \\frac{T^{a}_{2}}{\\left(T^{a}_{1}\\right)^{2} - \\left(T^{a}_{2}\\right)^{2}} & 0 & 0\\\\- \\frac{T^{a}_{2}}{\\left(T^{a}_{1}\\right)^{2} - \\left(T^{a}_{2}\\right)^{2}} & \\frac{T^{a}_{1}}{\\left(T^{a}_{1}\\right)^{2} - \\left(T^{a}_{2}\\right)^{2}} & 0 & 0\\\\0 & 0 & \\frac{T^{a}_{1}}{\\left(T^{a}_{1}\\right)^{2} - \\left(T^{a}_{2}\\right)^{2}} & - \\frac{T^{a}_{2}}{\\left(T^{a}_{1}\\right)^{2} - \\left(T^{a}_{2}\\right)^{2}}\\\\0 & 0 & - \\frac{T^{a}_{2}}{\\left(T^{a}_{1}\\right)^{2} - \\left(T^{a}_{2}\\right)^{2}} & \\frac{T^{a}_{1}}{\\left(T^{a}_{1}\\right)^{2} - \\left(T^{a}_{2}\\right)^{2}}\\end{matrix}\\right]$"
      ],
      "text/plain": [
       "Matrix([\n",
       "[ T^a_1/(T^a_1**2 - T^a_2**2), -T^a_2/(T^a_1**2 - T^a_2**2),                            0,                            0],\n",
       "[-T^a_2/(T^a_1**2 - T^a_2**2),  T^a_1/(T^a_1**2 - T^a_2**2),                            0,                            0],\n",
       "[                           0,                            0,  T^a_1/(T^a_1**2 - T^a_2**2), -T^a_2/(T^a_1**2 - T^a_2**2)],\n",
       "[                           0,                            0, -T^a_2/(T^a_1**2 - T^a_2**2),  T^a_1/(T^a_1**2 - T^a_2**2)]])"
      ]
     },
     "execution_count": 37,
     "metadata": {},
     "output_type": "execute_result"
    }
   ],
   "source": [
    "TA.inv()"
   ]
  },
  {
   "cell_type": "code",
   "execution_count": 39,
   "id": "267044c0-8fca-4aca-8023-d572fd2a0c44",
   "metadata": {},
   "outputs": [
    {
     "data": {
      "text/latex": [
       "$\\displaystyle \\left[\\begin{matrix}1 & 0 & 0 & 0\\\\0 & 1 & 0 & 0\\\\1 - f_{1} & 0 & f_{1} & 0\\\\0 & 1 - f_{1} & 0 & f_{1}\\end{matrix}\\right]$"
      ],
      "text/plain": [
       "Matrix([\n",
       "[      1,       0,   0,   0],\n",
       "[      0,       1,   0,   0],\n",
       "[1 - f_1,       0, f_1,   0],\n",
       "[      0, 1 - f_1,   0, f_1]])"
      ]
     },
     "execution_count": 39,
     "metadata": {},
     "output_type": "execute_result"
    }
   ],
   "source": [
    "f1, f2 = sp.symbols('f_1:3')\n",
    "F1 = sp.ImmutableDenseMatrix([\n",
    "    [1, 0, 0, 0],\n",
    "    [0, 1, 0, 0],\n",
    "    [1-f1, 0, f1, 0],\n",
    "    [0, 1-f1, 0, f1],\n",
    "])\n",
    "F1"
   ]
  },
  {
   "cell_type": "code",
   "execution_count": 40,
   "id": "1c1396a0-fae0-468b-9c97-10ba64fb2b4f",
   "metadata": {},
   "outputs": [
    {
     "data": {
      "text/latex": [
       "$\\displaystyle \\left[\\begin{matrix}1 & 0 & 0 & 0\\\\0 & 1 & 0 & 0\\\\1 - \\frac{1}{f_{1}} & 0 & \\frac{1}{f_{1}} & 0\\\\0 & 1 - \\frac{1}{f_{1}} & 0 & \\frac{1}{f_{1}}\\end{matrix}\\right]$"
      ],
      "text/plain": [
       "Matrix([\n",
       "[        1,         0,     0,     0],\n",
       "[        0,         1,     0,     0],\n",
       "[1 - 1/f_1,         0, 1/f_1,     0],\n",
       "[        0, 1 - 1/f_1,     0, 1/f_1]])"
      ]
     },
     "execution_count": 40,
     "metadata": {},
     "output_type": "execute_result"
    }
   ],
   "source": [
    "F1.inv()"
   ]
  },
  {
   "cell_type": "code",
   "execution_count": 41,
   "id": "6a91128d-4da4-4fee-9cda-ceef4fc65dc6",
   "metadata": {},
   "outputs": [
    {
     "data": {
      "text/latex": [
       "$\\displaystyle \\left[\\begin{matrix}1 & 0 & 0 & 0\\\\1 - f_{2} & f_{2} & 0 & 0\\\\0 & 0 & 1 & 0\\\\0 & 0 & 1 - f_{2} & f_{2}\\end{matrix}\\right]$"
      ],
      "text/plain": [
       "Matrix([\n",
       "[      1,   0,       0,   0],\n",
       "[1 - f_2, f_2,       0,   0],\n",
       "[      0,   0,       1,   0],\n",
       "[      0,   0, 1 - f_2, f_2]])"
      ]
     },
     "execution_count": 41,
     "metadata": {},
     "output_type": "execute_result"
    }
   ],
   "source": [
    "F2 = sp.ImmutableDenseMatrix([\n",
    "    [1, 0, 0, 0],\n",
    "    [1-f2, f2, 0, 0],\n",
    "    [0, 0, 1, 0],\n",
    "    [0, 0, 1-f2, f2],\n",
    "])\n",
    "F2"
   ]
  },
  {
   "cell_type": "code",
   "execution_count": 42,
   "id": "6b39bb9a-eebd-4177-8e22-8b4ffb603792",
   "metadata": {},
   "outputs": [
    {
     "data": {
      "text/latex": [
       "$\\displaystyle \\left[\\begin{matrix}1 & 0 & 0 & 0\\\\1 - \\frac{1}{f_{2}} & \\frac{1}{f_{2}} & 0 & 0\\\\0 & 0 & 1 & 0\\\\0 & 0 & 1 - \\frac{1}{f_{2}} & \\frac{1}{f_{2}}\\end{matrix}\\right]$"
      ],
      "text/plain": [
       "Matrix([\n",
       "[        1,     0,         0,     0],\n",
       "[1 - 1/f_2, 1/f_2,         0,     0],\n",
       "[        0,     0,         1,     0],\n",
       "[        0,     0, 1 - 1/f_2, 1/f_2]])"
      ]
     },
     "execution_count": 42,
     "metadata": {},
     "output_type": "execute_result"
    }
   ],
   "source": [
    "F2.inv()"
   ]
  },
  {
   "cell_type": "code",
   "execution_count": 35,
   "id": "e5339fe5-2b2f-48a6-aa1e-2f30b319cc38",
   "metadata": {},
   "outputs": [
    {
     "data": {
      "text/latex": [
       "$\\displaystyle \\left[\\begin{matrix}\\frac{T^{a}_{1} \\left(T^{p}_{1} f_{1} - T^{p}_{2} \\left(f_{1} - 1\\right)\\right)}{f_{1} \\left(\\left(T^{a}_{1}\\right)^{2} - \\left(T^{a}_{2}\\right)^{2}\\right) \\left(\\left(T^{p}_{1}\\right)^{2} - \\left(T^{p}_{2}\\right)^{2}\\right)} & - \\frac{T^{a}_{2} \\left(T^{p}_{1} f_{1} - T^{p}_{2} \\left(f_{1} - 1\\right)\\right)}{f_{1} \\left(\\left(T^{a}_{1}\\right)^{2} - \\left(T^{a}_{2}\\right)^{2}\\right) \\left(\\left(T^{p}_{1}\\right)^{2} - \\left(T^{p}_{2}\\right)^{2}\\right)} & - \\frac{T^{a}_{1} T^{p}_{2}}{f_{1} \\left(\\left(T^{a}_{1}\\right)^{2} - \\left(T^{a}_{2}\\right)^{2}\\right) \\left(\\left(T^{p}_{1}\\right)^{2} - \\left(T^{p}_{2}\\right)^{2}\\right)} & \\frac{T^{a}_{2} T^{p}_{2}}{f_{1} \\left(\\left(T^{a}_{1}\\right)^{2} - \\left(T^{a}_{2}\\right)^{2}\\right) \\left(\\left(T^{p}_{1}\\right)^{2} - \\left(T^{p}_{2}\\right)^{2}\\right)}\\\\\\frac{\\left(T^{a}_{1} \\left(f_{2} - 1\\right) - T^{a}_{2}\\right) \\left(T^{p}_{1} f_{1} - T^{p}_{2} \\left(f_{1} - 1\\right)\\right)}{f_{1} f_{2} \\left(\\left(T^{a}_{1}\\right)^{2} - \\left(T^{a}_{2}\\right)^{2}\\right) \\left(\\left(T^{p}_{1}\\right)^{2} - \\left(T^{p}_{2}\\right)^{2}\\right)} & \\frac{\\left(T^{a}_{1} - T^{a}_{2} \\left(f_{2} - 1\\right)\\right) \\left(T^{p}_{1} f_{1} - T^{p}_{2} \\left(f_{1} - 1\\right)\\right)}{f_{1} f_{2} \\left(\\left(T^{a}_{1}\\right)^{2} - \\left(T^{a}_{2}\\right)^{2}\\right) \\left(\\left(T^{p}_{1}\\right)^{2} - \\left(T^{p}_{2}\\right)^{2}\\right)} & \\frac{T^{p}_{2} \\left(- T^{a}_{1} \\left(f_{2} - 1\\right) + T^{a}_{2}\\right)}{f_{1} f_{2} \\left(\\left(T^{a}_{1}\\right)^{2} - \\left(T^{a}_{2}\\right)^{2}\\right) \\left(\\left(T^{p}_{1}\\right)^{2} - \\left(T^{p}_{2}\\right)^{2}\\right)} & \\frac{T^{p}_{2} \\left(- T^{a}_{1} + T^{a}_{2} \\left(f_{2} - 1\\right)\\right)}{f_{1} f_{2} \\left(\\left(T^{a}_{1}\\right)^{2} - \\left(T^{a}_{2}\\right)^{2}\\right) \\left(\\left(T^{p}_{1}\\right)^{2} - \\left(T^{p}_{2}\\right)^{2}\\right)}\\\\\\frac{T^{a}_{1} \\left(T^{p}_{1} \\left(f_{1} - 1\\right) - T^{p}_{2} f_{1}\\right)}{f_{1} \\left(\\left(T^{a}_{1}\\right)^{2} - \\left(T^{a}_{2}\\right)^{2}\\right) \\left(\\left(T^{p}_{1}\\right)^{2} - \\left(T^{p}_{2}\\right)^{2}\\right)} & - \\frac{T^{a}_{2} \\left(T^{p}_{1} \\left(f_{1} - 1\\right) - T^{p}_{2} f_{1}\\right)}{f_{1} \\left(\\left(T^{a}_{1}\\right)^{2} - \\left(T^{a}_{2}\\right)^{2}\\right) \\left(\\left(T^{p}_{1}\\right)^{2} - \\left(T^{p}_{2}\\right)^{2}\\right)} & \\frac{T^{a}_{1} T^{p}_{1}}{f_{1} \\left(\\left(T^{a}_{1}\\right)^{2} - \\left(T^{a}_{2}\\right)^{2}\\right) \\left(\\left(T^{p}_{1}\\right)^{2} - \\left(T^{p}_{2}\\right)^{2}\\right)} & - \\frac{T^{a}_{2} T^{p}_{1}}{f_{1} \\left(\\left(T^{a}_{1}\\right)^{2} - \\left(T^{a}_{2}\\right)^{2}\\right) \\left(\\left(T^{p}_{1}\\right)^{2} - \\left(T^{p}_{2}\\right)^{2}\\right)}\\\\\\frac{\\left(T^{a}_{1} \\left(f_{2} - 1\\right) - T^{a}_{2}\\right) \\left(T^{p}_{1} \\left(f_{1} - 1\\right) - T^{p}_{2} f_{1}\\right)}{f_{1} f_{2} \\left(\\left(T^{a}_{1}\\right)^{2} - \\left(T^{a}_{2}\\right)^{2}\\right) \\left(\\left(T^{p}_{1}\\right)^{2} - \\left(T^{p}_{2}\\right)^{2}\\right)} & \\frac{\\left(T^{a}_{1} - T^{a}_{2} \\left(f_{2} - 1\\right)\\right) \\left(T^{p}_{1} \\left(f_{1} - 1\\right) - T^{p}_{2} f_{1}\\right)}{f_{1} f_{2} \\left(\\left(T^{a}_{1}\\right)^{2} - \\left(T^{a}_{2}\\right)^{2}\\right) \\left(\\left(T^{p}_{1}\\right)^{2} - \\left(T^{p}_{2}\\right)^{2}\\right)} & \\frac{T^{p}_{1} \\left(T^{a}_{1} \\left(f_{2} - 1\\right) - T^{a}_{2}\\right)}{f_{1} f_{2} \\left(\\left(T^{a}_{1}\\right)^{2} - \\left(T^{a}_{2}\\right)^{2}\\right) \\left(\\left(T^{p}_{1}\\right)^{2} - \\left(T^{p}_{2}\\right)^{2}\\right)} & \\frac{T^{p}_{1} \\left(T^{a}_{1} - T^{a}_{2} \\left(f_{2} - 1\\right)\\right)}{f_{1} f_{2} \\left(\\left(T^{a}_{1}\\right)^{2} - \\left(T^{a}_{2}\\right)^{2}\\right) \\left(\\left(T^{p}_{1}\\right)^{2} - \\left(T^{p}_{2}\\right)^{2}\\right)}\\end{matrix}\\right]$"
      ],
      "text/plain": [
       "Matrix([\n",
       "[                        T^a_1*(T^p_1*f_1 - T^p_2*(f_1 - 1))/(f_1*(T^a_1**2 - T^a_2**2)*(T^p_1**2 - T^p_2**2)),                        -T^a_2*(T^p_1*f_1 - T^p_2*(f_1 - 1))/(f_1*(T^a_1**2 - T^a_2**2)*(T^p_1**2 - T^p_2**2)),                         -T^a_1*T^p_2/(f_1*(T^a_1**2 - T^a_2**2)*(T^p_1**2 - T^p_2**2)),                          T^a_2*T^p_2/(f_1*(T^a_1**2 - T^a_2**2)*(T^p_1**2 - T^p_2**2))],\n",
       "[(T^a_1*(f_2 - 1) - T^a_2)*(T^p_1*f_1 - T^p_2*(f_1 - 1))/(f_1*f_2*(T^a_1**2 - T^a_2**2)*(T^p_1**2 - T^p_2**2)), (T^a_1 - T^a_2*(f_2 - 1))*(T^p_1*f_1 - T^p_2*(f_1 - 1))/(f_1*f_2*(T^a_1**2 - T^a_2**2)*(T^p_1**2 - T^p_2**2)), T^p_2*(-T^a_1*(f_2 - 1) + T^a_2)/(f_1*f_2*(T^a_1**2 - T^a_2**2)*(T^p_1**2 - T^p_2**2)), T^p_2*(-T^a_1 + T^a_2*(f_2 - 1))/(f_1*f_2*(T^a_1**2 - T^a_2**2)*(T^p_1**2 - T^p_2**2))],\n",
       "[                        T^a_1*(T^p_1*(f_1 - 1) - T^p_2*f_1)/(f_1*(T^a_1**2 - T^a_2**2)*(T^p_1**2 - T^p_2**2)),                        -T^a_2*(T^p_1*(f_1 - 1) - T^p_2*f_1)/(f_1*(T^a_1**2 - T^a_2**2)*(T^p_1**2 - T^p_2**2)),                          T^a_1*T^p_1/(f_1*(T^a_1**2 - T^a_2**2)*(T^p_1**2 - T^p_2**2)),                         -T^a_2*T^p_1/(f_1*(T^a_1**2 - T^a_2**2)*(T^p_1**2 - T^p_2**2))],\n",
       "[(T^a_1*(f_2 - 1) - T^a_2)*(T^p_1*(f_1 - 1) - T^p_2*f_1)/(f_1*f_2*(T^a_1**2 - T^a_2**2)*(T^p_1**2 - T^p_2**2)), (T^a_1 - T^a_2*(f_2 - 1))*(T^p_1*(f_1 - 1) - T^p_2*f_1)/(f_1*f_2*(T^a_1**2 - T^a_2**2)*(T^p_1**2 - T^p_2**2)),  T^p_1*(T^a_1*(f_2 - 1) - T^a_2)/(f_1*f_2*(T^a_1**2 - T^a_2**2)*(T^p_1**2 - T^p_2**2)),  T^p_1*(T^a_1 - T^a_2*(f_2 - 1))/(f_1*f_2*(T^a_1**2 - T^a_2**2)*(T^p_1**2 - T^p_2**2))]])"
      ]
     },
     "execution_count": 35,
     "metadata": {},
     "output_type": "execute_result"
    }
   ],
   "source": [
    "(TP.inv() @ F1.inv() @ F2.inv() @ TA.inv()).simplify()"
   ]
  },
  {
   "cell_type": "markdown",
   "id": "06178863-c074-4f1e-8580-528728b2102d",
   "metadata": {},
   "source": []
  },
  {
   "cell_type": "code",
   "execution_count": null,
   "id": "9d09a1cf-853b-433b-81af-b585659e458e",
   "metadata": {},
   "outputs": [],
   "source": []
  }
 ],
 "metadata": {
  "kernelspec": {
   "display_name": "Python 3 (ipykernel)",
   "language": "python",
   "name": "python3"
  },
  "language_info": {
   "codemirror_mode": {
    "name": "ipython",
    "version": 3
   },
   "file_extension": ".py",
   "mimetype": "text/x-python",
   "name": "python",
   "nbconvert_exporter": "python",
   "pygments_lexer": "ipython3",
   "version": "3.10.12"
  }
 },
 "nbformat": 4,
 "nbformat_minor": 5
}
