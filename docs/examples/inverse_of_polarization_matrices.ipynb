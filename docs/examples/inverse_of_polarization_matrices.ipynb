{
 "cells": [
  {
   "cell_type": "code",
   "execution_count": null,
   "id": "14eadb27-fca5-4e22-a59c-7b30e0621942",
   "metadata": {},
   "outputs": [],
   "source": [
    "import sympy as sp"
   ]
  },
  {
   "cell_type": "code",
   "execution_count": null,
   "id": "eda00d90-997a-499d-a9c3-0dea19a561f4",
   "metadata": {},
   "outputs": [],
   "source": [
    "Tp = sp.symbols('T^p_1:3')\n",
    "Ta = sp.symbols('T^a_1:3')"
   ]
  },
  {
   "cell_type": "code",
   "execution_count": null,
   "id": "6780e116-44f1-4108-8184-035cf994f399",
   "metadata": {},
   "outputs": [],
   "source": [
    "TP = sp.ImmutableDenseMatrix([\n",
    "    [Tp[0], 0, Tp[1], 0],\n",
    "    [0, Tp[0], 0, Tp[1]],\n",
    "    [Tp[1], 0, Tp[0], 0],\n",
    "    [0, Tp[1], 0, Tp[0]],\n",
    "])\n",
    "TP"
   ]
  },
  {
   "cell_type": "code",
   "execution_count": null,
   "id": "8d22a3bb-0172-4018-9ba7-4b9337408811",
   "metadata": {},
   "outputs": [],
   "source": [
    "TP.inv()"
   ]
  },
  {
   "cell_type": "code",
   "execution_count": null,
   "id": "9d2a1962-7ae2-4756-ab12-5ac53a602705",
   "metadata": {},
   "outputs": [],
   "source": [
    "TA = sp.ImmutableDenseMatrix([\n",
    "    [Ta[0], Ta[1], 0, 0],\n",
    "    [Ta[1], Ta[0], 0, 0],\n",
    "    [0, 0, Ta[0], Ta[1]],\n",
    "    [0, 0, Ta[1], Ta[0]],\n",
    "])\n",
    "TA"
   ]
  },
  {
   "cell_type": "code",
   "execution_count": null,
   "id": "5f85c7c9-e31e-420d-bf18-b2c9b7c0879c",
   "metadata": {},
   "outputs": [],
   "source": [
    "TA.inv()"
   ]
  },
  {
   "cell_type": "code",
   "execution_count": null,
   "id": "267044c0-8fca-4aca-8023-d572fd2a0c44",
   "metadata": {},
   "outputs": [],
   "source": [
    "f1, f2 = sp.symbols('f_1:3')\n",
    "F1 = sp.ImmutableDenseMatrix([\n",
    "    [1, 0, 0, 0],\n",
    "    [0, 1, 0, 0],\n",
    "    [1-f1, 0, f1, 0],\n",
    "    [0, 1-f1, 0, f1],\n",
    "])\n",
    "F1"
   ]
  },
  {
   "cell_type": "code",
   "execution_count": null,
   "id": "1c1396a0-fae0-468b-9c97-10ba64fb2b4f",
   "metadata": {},
   "outputs": [],
   "source": [
    "F1.inv()"
   ]
  },
  {
   "cell_type": "code",
   "execution_count": null,
   "id": "6a91128d-4da4-4fee-9cda-ceef4fc65dc6",
   "metadata": {},
   "outputs": [],
   "source": [
    "F2 = sp.ImmutableDenseMatrix([\n",
    "    [1, 0, 0, 0],\n",
    "    [1-f2, f2, 0, 0],\n",
    "    [0, 0, 1, 0],\n",
    "    [0, 0, 1-f2, f2],\n",
    "])\n",
    "F2"
   ]
  },
  {
   "cell_type": "code",
   "execution_count": null,
   "id": "6b39bb9a-eebd-4177-8e22-8b4ffb603792",
   "metadata": {},
   "outputs": [],
   "source": [
    "F2.inv()"
   ]
  },
  {
   "cell_type": "code",
   "execution_count": null,
   "id": "e5339fe5-2b2f-48a6-aa1e-2f30b319cc38",
   "metadata": {},
   "outputs": [],
   "source": [
    "(TP.inv() @ F1.inv() @ F2.inv() @ TA.inv()).simplify()"
   ]
  },
  {
   "cell_type": "code",
   "execution_count": null,
   "id": "c32ec793-8ac0-4ad7-aa20-ef7ae853b6dc",
   "metadata": {},
   "outputs": [],
   "source": [
    "# Latex formatted for copying to other docs\n",
    "for s in (\n",
    "    '\\hat{T}_P^{-1} = ' + sp.latex(TP.inv().simplify()),\n",
    "    '\\hat{T}_A^{-1} = ' + sp.latex(TA.inv().simplify()),\n",
    "    '\\hat{F}_1^{-1} = ' + sp.latex(F1.inv().simplify()),\n",
    "    '\\hat{F}_2^{-1} = ' + sp.latex(F2.inv().simplify()),\n",
    "):\n",
    "    print(s, end='\\n\\n')"
   ]
  }
 ],
 "metadata": {
  "kernelspec": {
   "display_name": "Python 3 (ipykernel)",
   "language": "python",
   "name": "python3"
  },
  "language_info": {
   "codemirror_mode": {
    "name": "ipython",
    "version": 3
   },
   "file_extension": ".py",
   "mimetype": "text/x-python",
   "name": "python",
   "nbconvert_exporter": "python",
   "pygments_lexer": "ipython3",
   "version": "3.10.13"
  }
 },
 "nbformat": 4,
 "nbformat_minor": 5
}
