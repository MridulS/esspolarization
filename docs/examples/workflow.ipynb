{
 "cells": [
  {
   "cell_type": "markdown",
   "metadata": {},
   "source": [
    "# Data reduction workflow graph\n",
    "\n",
    "We define a basic data reduction workflow using Sciline.\n",
    "The individual steps are currently not functional (mostly empty dummy functions), but we can begin to define the workflow graph."
   ]
  },
  {
   "cell_type": "code",
   "execution_count": null,
   "metadata": {},
   "outputs": [],
   "source": [
    "from ess import polarization as pol\n",
    "import scipp as sc\n",
    "import sciline"
   ]
  },
  {
   "cell_type": "code",
   "execution_count": null,
   "metadata": {},
   "outputs": [],
   "source": [
    "pipeline = sciline.Pipeline(pol.providers)\n",
    "pipeline[pol.WavelengthBins] = sc.linspace('wavelength', 1.8, 2.5, 100)\n",
    "for cell_type in [pol.Polarizer, pol.Analyzer]:\n",
    "    pipeline[pol.He3CellPressure[cell_type]] = pol.He3CellPressure[cell_type](\n",
    "        sc.scalar(10.0, unit='bar')\n",
    "    )\n",
    "    pipeline[pol.He3CellLength[cell_type]] = pol.He3CellLength[cell_type](\n",
    "        sc.scalar(10.0, unit='cm')\n",
    "    )\n",
    "    pipeline[pol.He3FillingTime[cell_type]] = pol.He3FillingTime[cell_type](\n",
    "        sc.scalar(10.0, unit='s')\n",
    "    )"
   ]
  },
  {
   "cell_type": "code",
   "execution_count": null,
   "metadata": {},
   "outputs": [],
   "source": [
    "results = (pol.PolarizationCorrectedSampleData,)\n",
    "graph = pipeline.get(results).visualize(graph_attr={'rankdir': 'LR'})\n",
    "graph.render('polarization-data-reduction', format='png')\n",
    "graph"
   ]
  }
 ],
 "metadata": {
  "kernelspec": {
   "display_name": "Python 3 (ipykernel)",
   "language": "python",
   "name": "python3"
  },
  "language_info": {
   "codemirror_mode": {
    "name": "ipython",
    "version": 3
   },
   "file_extension": ".py",
   "mimetype": "text/x-python",
   "name": "python",
   "nbconvert_exporter": "python",
   "pygments_lexer": "ipython3",
   "version": "3.10.12"
  }
 },
 "nbformat": 4,
 "nbformat_minor": 4
}
