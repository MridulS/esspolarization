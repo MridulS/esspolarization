{
 "cells": [
  {
   "cell_type": "markdown",
   "metadata": {},
   "source": [
    "# Data reduction workflow graph\n",
    "\n",
    "We define a basic data reduction workflow using Sciline.\n",
    "The individual steps are currently not functional (mostly empty dummy functions), but we can begin to define the workflow graph."
   ]
  },
  {
   "cell_type": "code",
   "execution_count": null,
   "metadata": {},
   "outputs": [],
   "source": [
    "from ess import polarization as pol\n",
    "import scipp as sc\n",
    "import sciline"
   ]
  },
  {
   "cell_type": "markdown",
   "metadata": {},
   "source": [
    "## Opacity\n",
    "\n",
    "There are two ways of computing the opacity, from cell parameters and from direct-beam measurements."
   ]
  },
  {
   "cell_type": "code",
   "execution_count": null,
   "metadata": {},
   "outputs": [],
   "source": [
    "pipeline = sciline.Pipeline([pol.he3_opacity_from_cell_params])\n",
    "pipeline.visualize(pol.He3OpacityFunction[pol.Polarizer])"
   ]
  },
  {
   "cell_type": "code",
   "execution_count": null,
   "metadata": {},
   "outputs": [],
   "source": [
    "pipeline = sciline.Pipeline([pol.he3_opacity_from_beam_data])\n",
    "pipeline.visualize(pol.He3OpacityFunction[pol.Polarizer])"
   ]
  },
  {
   "cell_type": "markdown",
   "metadata": {},
   "source": [
    "## Full pipeline\n",
    "\n",
    "### On-the-fly reduction: opacity from cell parameters"
   ]
  },
  {
   "cell_type": "code",
   "execution_count": null,
   "metadata": {},
   "outputs": [],
   "source": [
    "from copy import copy\n",
    "\n",
    "providers = copy(pol.providers)\n",
    "providers.remove(pol.he3_opacity_from_beam_data)\n",
    "providers.append(pol.he3_opacity_from_cell_params)\n",
    "pipeline = sciline.Pipeline(providers)\n",
    "results = (pol.PolarizationCorrectedSampleData,)\n",
    "graph = pipeline.visualize(results, graph_attr={'rankdir': 'LR'})\n",
    "graph.render('polarization-from-cell-params', format='png')\n",
    "graph"
   ]
  },
  {
   "cell_type": "markdown",
   "metadata": {},
   "source": [
    "### Precise reduction: opacity from direct-beam measurements of unpolarized cells"
   ]
  },
  {
   "cell_type": "code",
   "execution_count": null,
   "metadata": {},
   "outputs": [],
   "source": [
    "pipeline = sciline.Pipeline(pol.providers)\n",
    "results = (pol.PolarizationCorrectedSampleData,)\n",
    "graph = pipeline.visualize(results, graph_attr={'rankdir': 'LR'})\n",
    "graph.render('polarization-from-neutron-beam', format='png')\n",
    "graph"
   ]
  }
 ],
 "metadata": {
  "kernelspec": {
   "display_name": "Python 3 (ipykernel)",
   "language": "python",
   "name": "python3"
  },
  "language_info": {
   "codemirror_mode": {
    "name": "ipython",
    "version": 3
   },
   "file_extension": ".py",
   "mimetype": "text/x-python",
   "name": "python",
   "nbconvert_exporter": "python",
   "pygments_lexer": "ipython3",
   "version": "3.10.12"
  }
 },
 "nbformat": 4,
 "nbformat_minor": 4
}
